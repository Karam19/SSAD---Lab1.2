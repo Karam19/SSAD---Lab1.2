{
  "nbformat": 4,
  "nbformat_minor": 0,
  "metadata": {
    "colab": {
      "name": "Factorial_project",
      "provenance": [],
      "include_colab_link": true
    },
    "kernelspec": {
      "name": "python3",
      "display_name": "Python 3"
    },
    "language_info": {
      "name": "python"
    },
    "accelerator": "GPU"
  },
  "cells": [
    {
      "cell_type": "markdown",
      "metadata": {
        "id": "view-in-github",
        "colab_type": "text"
      },
      "source": [
        "<a href=\"https://colab.research.google.com/github/Karam19/SSAD---Lab1.2/blob/main/Factorial_project.ipynb\" target=\"_parent\"><img src=\"https://colab.research.google.com/assets/colab-badge.svg\" alt=\"Open In Colab\"/></a>"
      ]
    },
    {
      "cell_type": "code",
      "metadata": {
        "colab": {
          "base_uri": "https://localhost:8080/"
        },
        "id": "b-Z10JYRcfte",
        "outputId": "e226b9eb-455d-411a-a8b2-82848e70d7d9"
      },
      "source": [
        "import time\n",
        "def factorial(num):\n",
        "  factorial = 1    \n",
        "  for i in range(1,num + 1):    \n",
        "      factorial = factorial*i    \n",
        "  return factorial\n",
        "\n",
        "\n",
        "date = input('Date (dd/mm/yyyy): ')\n",
        "try:\n",
        "  valid_date = time.strptime(date, '%d/%m/%Y')\n",
        "except ValueError:\n",
        "  print('Invalid date!')\n",
        "else:\n",
        "  print(\"Factorial:\")\n",
        "  print(factorial(valid_date.tm_mday // 10 + valid_date.tm_mday % 10  + \n",
        "            valid_date.tm_mon // 10 + valid_date.tm_mon % 10 + \n",
        "            valid_date.tm_year // 1000 +  (valid_date.tm_year // 100) % 10 +\n",
        "            (valid_date.tm_year // 10) % 10 + valid_date.tm_year % 10))\n",
        "  "
      ],
      "execution_count": null,
      "outputs": [
        {
          "output_type": "stream",
          "text": [
            "Date (dd/mm/yyyy): 01/10/2001\n",
            "Factorial:\n",
            "120\n"
          ],
          "name": "stdout"
        }
      ]
    },
    {
      "cell_type": "code",
      "metadata": {
        "id": "QzW9VOAJdkZZ"
      },
      "source": [
        ""
      ],
      "execution_count": null,
      "outputs": []
    }
  ]
}